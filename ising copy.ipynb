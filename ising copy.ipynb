{
 "cells": [
  {
   "cell_type": "markdown",
   "metadata": {},
   "source": [
    "# ISING MODEL SIMULATION\n"
   ]
  },
  {
   "cell_type": "markdown",
   "metadata": {},
   "source": [
    "### IMPORTS"
   ]
  },
  {
   "cell_type": "code",
   "execution_count": 1,
   "metadata": {},
   "outputs": [],
   "source": [
    "import numpy as np\n",
    "import matplotlib.pyplot as plt\n"
   ]
  },
  {
   "cell_type": "markdown",
   "metadata": {},
   "source": [
    "### Random Initialization"
   ]
  },
  {
   "cell_type": "code",
   "execution_count": 2,
   "metadata": {},
   "outputs": [],
   "source": [
    "def random_initialization():\n",
    "    # The initial state can be either 1 or -1\n",
    "    return np.random.choice([-1, 1], size=lattice_size)"
   ]
  },
  {
   "cell_type": "markdown",
   "metadata": {},
   "source": [
    "### PART 1"
   ]
  },
  {
   "cell_type": "code",
   "execution_count": 3,
   "metadata": {},
   "outputs": [],
   "source": [
    "def compute_h(lattice, i, j):\n",
    "    return (\n",
    "        lattice[(i - 1) % L, j] +  # up\n",
    "        lattice[(i + 1) % L, j] +  # down\n",
    "        lattice[i, (j - 1) % L] +  # left\n",
    "        lattice[i, (j + 1) % L]    # right\n",
    "    )\n",
    "\n",
    "def compute_delta_E(lattice, i, j):\n",
    "    sigma_i = lattice[i, j]\n",
    "    h_i = compute_h(lattice, i, j)\n",
    "    return 2 * J * sigma_i * h_i"
   ]
  },
  {
   "cell_type": "markdown",
   "metadata": {},
   "source": [
    "### PART 2"
   ]
  },
  {
   "cell_type": "code",
   "execution_count": 4,
   "metadata": {},
   "outputs": [],
   "source": [
    "def precompute_probabilities(T):\n",
    "    if T == 0:\n",
    "        # if T = 0, we just accept energy reductions\n",
    "        return {delta_E: (1 if delta_E < 0 else 0) for delta_E in [-8, -4, 0, 4, 8]}\n",
    "    else:\n",
    "        # if T > 0, we compute the standar probability\n",
    "        return {delta_E: np.exp(-delta_E / T) for delta_E in [-8, -4, 0, 4, 8]}\n",
    "\n",
    "def metropolis_step(lattice, T):\n",
    "    prob_lookup = precompute_probabilities(T)  # precompute the probabilities\n",
    "\n",
    "    for _ in range(L * L):\n",
    "        i, j = np.random.randint(0, L, size=2)  # random spin\n",
    "        delta_E = compute_delta_E(lattice, i, j)\n",
    "\n",
    "        # metropolis rule\n",
    "        if delta_E <= 0 or np.random.rand() < prob_lookup[delta_E]:\n",
    "            lattice[i, j] *= -1  # change spin's sign\n",
    "\n"
   ]
  },
  {
   "cell_type": "markdown",
   "metadata": {},
   "source": [
    "### PART 3"
   ]
  },
  {
   "cell_type": "code",
   "execution_count": 8,
   "metadata": {},
   "outputs": [],
   "source": [
    "def calculate_magnetization(lattice):\n",
    "    return np.sum(lattice) / (lattice.shape[0] * lattice.shape[1])\n",
    "\n",
    "def calculate_energy(lattice):\n",
    "    E = 0\n",
    "    for i in range(L):\n",
    "        for j in range(L):\n",
    "            # periodic boundary\n",
    "            neighbors = compute_h(lattice, i, j)\n",
    "            E -= lattice[i, j] * neighbors\n",
    "    return E / 2  # /2 because we took into account 2 time each"
   ]
  },
  {
   "cell_type": "code",
   "execution_count": 6,
   "metadata": {},
   "outputs": [],
   "source": [
    "def ising_simulation(L, temperatures, Ntherm, Nsample, Nsubsweep):\n",
    "    magnetizations = []\n",
    "    energies = []\n",
    "\n",
    "    for T in temperatures:\n",
    "        lattice = random_initialization()\n",
    "        \n",
    "        for _ in range(Ntherm):\n",
    "            metropolis_step(lattice, T)\n",
    "\n",
    "        mag = []\n",
    "        energy = []\n",
    "        for _ in range(Nsample):\n",
    "            for _ in range(Nsubsweep):\n",
    "                metropolis_step(lattice, T)\n",
    "            \n",
    "            mag.append(calculate_magnetization(lattice))\n",
    "            energy.append(calculate_energy(lattice))\n",
    "\n",
    "        magnetizations.append(np.mean(np.abs(mag)))\n",
    "        energies.append(np.mean(energy))\n",
    "        \n",
    "    return magnetizations, energies"
   ]
  },
  {
   "cell_type": "markdown",
   "metadata": {},
   "source": [
    "### TRIALS"
   ]
  },
  {
   "cell_type": "code",
   "execution_count": 7,
   "metadata": {},
   "outputs": [
    {
     "ename": "KeyboardInterrupt",
     "evalue": "",
     "output_type": "error",
     "traceback": [
      "\u001b[1;31m---------------------------------------------------------------------------\u001b[0m",
      "\u001b[1;31mKeyboardInterrupt\u001b[0m                         Traceback (most recent call last)",
      "Cell \u001b[1;32mIn[7], line 12\u001b[0m\n\u001b[0;32m      9\u001b[0m N_sample \u001b[38;5;241m=\u001b[39m \u001b[38;5;241m5000\u001b[39m\n\u001b[0;32m     10\u001b[0m N_subsweep \u001b[38;5;241m=\u001b[39m L\u001b[38;5;241m*\u001b[39mL\n\u001b[1;32m---> 12\u001b[0m magnetizations, energies \u001b[38;5;241m=\u001b[39m \u001b[43mising_simulation\u001b[49m\u001b[43m(\u001b[49m\u001b[43mL\u001b[49m\u001b[43m,\u001b[49m\u001b[43m \u001b[49m\u001b[43mtemperatures\u001b[49m\u001b[43m,\u001b[49m\u001b[43m \u001b[49m\u001b[43mN_therm\u001b[49m\u001b[43m,\u001b[49m\u001b[43m \u001b[49m\u001b[43mN_sample\u001b[49m\u001b[43m,\u001b[49m\u001b[43m \u001b[49m\u001b[43mN_subsweep\u001b[49m\u001b[43m)\u001b[49m\n\u001b[0;32m     14\u001b[0m plt\u001b[38;5;241m.\u001b[39mfigure(figsize\u001b[38;5;241m=\u001b[39m(\u001b[38;5;241m12\u001b[39m, \u001b[38;5;241m6\u001b[39m))\n\u001b[0;32m     16\u001b[0m \u001b[38;5;66;03m# Magnetizations\u001b[39;00m\n",
      "Cell \u001b[1;32mIn[6], line 9\u001b[0m, in \u001b[0;36mising_simulation\u001b[1;34m(L, temperatures, Ntherm, Nsample, Nsubsweep)\u001b[0m\n\u001b[0;32m      6\u001b[0m lattice \u001b[38;5;241m=\u001b[39m random_initialization()\n\u001b[0;32m      8\u001b[0m \u001b[38;5;28;01mfor\u001b[39;00m _ \u001b[38;5;129;01min\u001b[39;00m \u001b[38;5;28mrange\u001b[39m(Ntherm):\n\u001b[1;32m----> 9\u001b[0m     \u001b[43mmetropolis_step\u001b[49m\u001b[43m(\u001b[49m\u001b[43mlattice\u001b[49m\u001b[43m,\u001b[49m\u001b[43m \u001b[49m\u001b[43mT\u001b[49m\u001b[43m)\u001b[49m\n\u001b[0;32m     11\u001b[0m mag \u001b[38;5;241m=\u001b[39m []\n\u001b[0;32m     12\u001b[0m energy \u001b[38;5;241m=\u001b[39m []\n",
      "Cell \u001b[1;32mIn[4], line 13\u001b[0m, in \u001b[0;36mmetropolis_step\u001b[1;34m(lattice, T)\u001b[0m\n\u001b[0;32m     10\u001b[0m prob_lookup \u001b[38;5;241m=\u001b[39m precompute_probabilities(T)  \u001b[38;5;66;03m# precompute the probabilities\u001b[39;00m\n\u001b[0;32m     12\u001b[0m \u001b[38;5;28;01mfor\u001b[39;00m _ \u001b[38;5;129;01min\u001b[39;00m \u001b[38;5;28mrange\u001b[39m(L \u001b[38;5;241m*\u001b[39m L):\n\u001b[1;32m---> 13\u001b[0m     i, j \u001b[38;5;241m=\u001b[39m \u001b[43mnp\u001b[49m\u001b[38;5;241;43m.\u001b[39;49m\u001b[43mrandom\u001b[49m\u001b[38;5;241;43m.\u001b[39;49m\u001b[43mrandint\u001b[49m\u001b[43m(\u001b[49m\u001b[38;5;241;43m0\u001b[39;49m\u001b[43m,\u001b[49m\u001b[43m \u001b[49m\u001b[43mL\u001b[49m\u001b[43m,\u001b[49m\u001b[43m \u001b[49m\u001b[43msize\u001b[49m\u001b[38;5;241;43m=\u001b[39;49m\u001b[38;5;241;43m2\u001b[39;49m\u001b[43m)\u001b[49m  \u001b[38;5;66;03m# random spin\u001b[39;00m\n\u001b[0;32m     14\u001b[0m     delta_E \u001b[38;5;241m=\u001b[39m compute_delta_E(lattice, i, j)\n\u001b[0;32m     16\u001b[0m     \u001b[38;5;66;03m# metropolis rule\u001b[39;00m\n",
      "\u001b[1;31mKeyboardInterrupt\u001b[0m: "
     ]
    }
   ],
   "source": [
    "# PARAMETERS\n",
    "\n",
    "L = 10\n",
    "lattice_size = (L, L)\n",
    "temperatures = [0.0, 1.0, 1.5, 2.0, 2.1, 2.2, 2.3, 2.4, 2.5, 3.0]\n",
    "J = 1\n",
    "k_B = 1\n",
    "N_therm = 100000\n",
    "N_sample = 5000\n",
    "N_subsweep = L*L\n",
    "\n",
    "magnetizations, energies = ising_simulation(L, temperatures, N_therm, N_sample, N_subsweep)\n",
    "\n",
    "plt.figure(figsize=(12, 6))\n",
    "\n",
    "# Magnetizations\n",
    "plt.subplot(1, 2, 1)\n",
    "plt.plot(temperatures, magnetizations, marker='o')\n",
    "plt.xlabel('Temperatura T')\n",
    "plt.ylabel('Magnetización promedio $\\\\langle |M| \\\\rangle$')\n",
    "plt.title('Magnetización vs Temperatura')\n",
    "\n",
    "# Energy\n",
    "plt.subplot(1, 2, 2)\n",
    "plt.plot(temperatures, energies, marker='o')\n",
    "plt.xlabel('Temperatura T')\n",
    "plt.ylabel('Energía promedio $\\\\langle E \\\\rangle$')\n",
    "plt.title('Energía vs Temperatura')\n",
    "\n",
    "plt.tight_layout()\n",
    "plt.show()"
   ]
  }
 ],
 "metadata": {
  "kernelspec": {
   "display_name": "py38ml",
   "language": "python",
   "name": "python3"
  },
  "language_info": {
   "codemirror_mode": {
    "name": "ipython",
    "version": 3
   },
   "file_extension": ".py",
   "mimetype": "text/x-python",
   "name": "python",
   "nbconvert_exporter": "python",
   "pygments_lexer": "ipython3",
   "version": "3.8.15"
  }
 },
 "nbformat": 4,
 "nbformat_minor": 2
}
